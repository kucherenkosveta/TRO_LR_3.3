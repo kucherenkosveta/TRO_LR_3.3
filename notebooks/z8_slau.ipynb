{
 "cells": [
  {
   "cell_type": "markdown",
   "id": "14299dac",
   "metadata": {},
   "source": [
    "# Собственные примеры решения систем линейных уравнений матричным методом и методом Крамера."
   ]
  },
  {
   "cell_type": "markdown",
   "id": "837a7efd",
   "metadata": {},
   "source": [
    "### Матричный метод"
   ]
  },
  {
   "cell_type": "markdown",
   "id": "04c17e35",
   "metadata": {},
   "source": [
    "Найти решение СЛАУ матричным методом:\n",
    "![slau](https://sun9-10.userapi.com/impg/VAND7QNvV_qQvxzRVajbrFcdN69YfNqYnCJJ_Q/RTqBI-oFw_I.jpg?size=160x85&quality=96&sign=fa9f470ccaeda8da710ee1ef0d81d9ac&type=album)"
   ]
  },
  {
   "cell_type": "code",
   "execution_count": 1,
   "id": "9e237126",
   "metadata": {},
   "outputs": [],
   "source": [
    "import numpy as np"
   ]
  },
  {
   "cell_type": "code",
   "execution_count": 2,
   "id": "a36c614b",
   "metadata": {},
   "outputs": [],
   "source": [
    "A = np.matrix('3 2 -1; 2 -1 5; 1 7 -1')\n",
    "B = np.matrix('4; 23; 5')"
   ]
  },
  {
   "cell_type": "code",
   "execution_count": 6,
   "id": "fc72f931",
   "metadata": {},
   "outputs": [
    {
     "name": "stdout",
     "output_type": "stream",
     "text": [
      "X =\n",
      " [[2.]\n",
      " [1.]\n",
      " [4.]]\n"
     ]
    }
   ],
   "source": [
    "if round(np.linalg.det(A), 3) != 0:\n",
    "    A_inv = np.linalg.inv(A)\n",
    "    R = A_inv.dot(B) \n",
    "    print('X =\\n', R)\n",
    "else:\n",
    "    print(\"Определитель равен 0, СЛАУ решить нельзя!\")"
   ]
  },
  {
   "cell_type": "markdown",
   "id": "de6c6b12",
   "metadata": {},
   "source": [
    "### Метод Крамера"
   ]
  },
  {
   "cell_type": "markdown",
   "id": "7ca54048",
   "metadata": {},
   "source": [
    "Найти решение СЛАУ методом Крамера:\n",
    "![slau](https://sun9-10.userapi.com/impg/VAND7QNvV_qQvxzRVajbrFcdN69YfNqYnCJJ_Q/RTqBI-oFw_I.jpg?size=160x85&quality=96&sign=fa9f470ccaeda8da710ee1ef0d81d9ac&type=album)"
   ]
  },
  {
   "cell_type": "code",
   "execution_count": 7,
   "id": "9c5693c6",
   "metadata": {},
   "outputs": [],
   "source": [
    "import numpy as np"
   ]
  },
  {
   "cell_type": "code",
   "execution_count": 8,
   "id": "4ca75cea",
   "metadata": {},
   "outputs": [],
   "source": [
    "A = np.matrix('3 2 -1; 2 -1 5; 1 7 -1')\n",
    "B = np.matrix('4; 23; 5')"
   ]
  },
  {
   "cell_type": "code",
   "execution_count": 12,
   "id": "463d5a5c",
   "metadata": {},
   "outputs": [
    {
     "name": "stdout",
     "output_type": "stream",
     "text": [
      "x1 = 2.0\n",
      " x2 = 1.0\n",
      " x3 = 4.0\n",
      "\n"
     ]
    }
   ],
   "source": [
    "if round(np.linalg.det(A), 3) != 0:\n",
    "    C = A.copy() \n",
    "    C[:, 0] = B[:, 0] \n",
    "    x1 = round(np.linalg.det(C), 3) / round(np.linalg.det(A), 3)\n",
    "    \n",
    "    D = A.copy()  \n",
    "    D[:, 1] = B[:, 0] \n",
    "    x2 = round(np.linalg.det(D), 3) / round(np.linalg.det(A), 3) \n",
    "    \n",
    "    E = A.copy() \n",
    "    E[:, 2] = B[:, 0] \n",
    "    x3 = round(np.linalg.det(E), 3) / round(np.linalg.det(A), 3) \n",
    "   \n",
    "    print(f\"x1 = {x1}\\n\", f\"x2 = {x2}\\n\", f\"x3 = {x3}\\n\")"
   ]
  }
 ],
 "metadata": {
  "kernelspec": {
   "display_name": "Python 3 (ipykernel)",
   "language": "python",
   "name": "python3"
  },
  "language_info": {
   "codemirror_mode": {
    "name": "ipython",
    "version": 3
   },
   "file_extension": ".py",
   "mimetype": "text/x-python",
   "name": "python",
   "nbconvert_exporter": "python",
   "pygments_lexer": "ipython3",
   "version": "3.9.13"
  }
 },
 "nbformat": 4,
 "nbformat_minor": 5
}
